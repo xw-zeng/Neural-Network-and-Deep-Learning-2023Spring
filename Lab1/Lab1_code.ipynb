{
 "cells": [
  {
   "cell_type": "markdown",
   "id": "3f92b7dc",
   "metadata": {},
   "source": [
    "### 0. Import packages."
   ]
  },
  {
   "cell_type": "code",
   "execution_count": 1,
   "id": "398d183c",
   "metadata": {},
   "outputs": [],
   "source": [
    "from IPython.core.interactiveshell import InteractiveShell\n",
    "InteractiveShell.ast_node_interactivity = 'all'\n",
    "import numpy as np\n",
    "import string\n",
    "import torch\n",
    "from torch import nn\n",
    "from torch.utils import data\n",
    "from sklearn.linear_model import LinearRegression, LogisticRegression\n",
    "from sklearn.svm import LinearSVC\n",
    "import torchvision\n",
    "from torchvision import transforms\n",
    "import matplotlib.pyplot as plt\n",
    "import pickle\n",
    "import time\n",
    "from PIL import Image\n",
    "import re"
   ]
  },
  {
   "cell_type": "markdown",
   "id": "50b46b31",
   "metadata": {},
   "source": [
    "### 1. Write a Python function to sum all the numbers in a list."
   ]
  },
  {
   "cell_type": "code",
   "execution_count": 2,
   "id": "424b3772",
   "metadata": {},
   "outputs": [],
   "source": [
    "def sum_list(x):\n",
    "    s = 0\n",
    "    for i in x:\n",
    "        s = s + i\n",
    "    return s"
   ]
  },
  {
   "cell_type": "code",
   "execution_count": 3,
   "id": "aef1e143",
   "metadata": {},
   "outputs": [
    {
     "data": {
      "text/plain": [
       "6"
      ]
     },
     "execution_count": 3,
     "metadata": {},
     "output_type": "execute_result"
    }
   ],
   "source": [
    "x = [1, 2, 3]\n",
    "sum_list(x)"
   ]
  },
  {
   "cell_type": "markdown",
   "id": "d8717a3c",
   "metadata": {},
   "source": [
    "### 2. Write a Python function that takes a list and returns a new list with unique elements of the ﬁrst list."
   ]
  },
  {
   "cell_type": "code",
   "execution_count": 4,
   "id": "3a4a4105",
   "metadata": {},
   "outputs": [],
   "source": [
    "def unique_element(x):\n",
    "    return list(set(x))"
   ]
  },
  {
   "cell_type": "code",
   "execution_count": 5,
   "id": "9cd13326",
   "metadata": {},
   "outputs": [
    {
     "data": {
      "text/plain": [
       "[1, 2, 3, 4, 5]"
      ]
     },
     "execution_count": 5,
     "metadata": {},
     "output_type": "execute_result"
    }
   ],
   "source": [
    "x = [1, 2, 3, 3, 3, 3, 4, 5]\n",
    "unique_element(x)"
   ]
  },
  {
   "cell_type": "markdown",
   "id": "1be2976d",
   "metadata": {},
   "source": [
    "### 3. Write a Python function that checks whether a passed string is palindrome or not.\n",
    "\n",
    "A palindrome is a word, phrase, or sequence that reads the same backward as forward. For example, both “madam” and “nurses run” are palindromes."
   ]
  },
  {
   "cell_type": "code",
   "execution_count": 6,
   "id": "4c2d5228",
   "metadata": {},
   "outputs": [],
   "source": [
    "def check_palindrome(x):\n",
    "    x_new = x.replace(' ', '') # delete space\n",
    "    for punc in string.punctuation: # delete punctuation\n",
    "        x_new = x_new.replace(punc, '')\n",
    "    return x_new[::-1] == x_new"
   ]
  },
  {
   "cell_type": "code",
   "execution_count": 7,
   "id": "690fec15",
   "metadata": {},
   "outputs": [
    {
     "data": {
      "text/plain": [
       "True"
      ]
     },
     "execution_count": 7,
     "metadata": {},
     "output_type": "execute_result"
    },
    {
     "data": {
      "text/plain": [
       "True"
      ]
     },
     "execution_count": 7,
     "metadata": {},
     "output_type": "execute_result"
    },
    {
     "data": {
      "text/plain": [
       "True"
      ]
     },
     "execution_count": 7,
     "metadata": {},
     "output_type": "execute_result"
    },
    {
     "data": {
      "text/plain": [
       "False"
      ]
     },
     "execution_count": 7,
     "metadata": {},
     "output_type": "execute_result"
    }
   ],
   "source": [
    "check_palindrome('madam')\n",
    "check_palindrome('nurses run')\n",
    "check_palindrome('nurses, run!')\n",
    "check_palindrome('maadam')"
   ]
  },
  {
   "cell_type": "markdown",
   "id": "2a145582",
   "metadata": {},
   "source": [
    "### 4. Write a NumPy program to ﬁnd the real and imaginary parts of an array of complex numbers."
   ]
  },
  {
   "cell_type": "code",
   "execution_count": 8,
   "id": "040035d8",
   "metadata": {},
   "outputs": [],
   "source": [
    "def detect_complex(x):\n",
    "    complex_list = []\n",
    "    for i in x:\n",
    "        complex_list.append([i.real, i.imag])\n",
    "    return complex_list"
   ]
  },
  {
   "cell_type": "code",
   "execution_count": 9,
   "id": "6f4edcf7",
   "metadata": {},
   "outputs": [
    {
     "data": {
      "text/plain": [
       "[[1.0, 0.0], [0.70710678, 0.70710678]]"
      ]
     },
     "execution_count": 9,
     "metadata": {},
     "output_type": "execute_result"
    },
    {
     "data": {
      "text/plain": [
       "[[2.0, 3.0], [3.0, 4.0], [4.0, 5.0]]"
      ]
     },
     "execution_count": 9,
     "metadata": {},
     "output_type": "execute_result"
    }
   ],
   "source": [
    "x = [1.00000000+0.j, 0.70710678+0.70710678j]\n",
    "y = [2+3j, 3+4j, 4+5j]\n",
    "detect_complex(x)\n",
    "detect_complex(y)"
   ]
  },
  {
   "cell_type": "markdown",
   "id": "8b081e35",
   "metadata": {},
   "source": [
    "### 5. Write a Python program to add two binary numbers."
   ]
  },
  {
   "cell_type": "code",
   "execution_count": 10,
   "id": "2969cd90",
   "metadata": {},
   "outputs": [],
   "source": [
    "def add_binary(x, y):\n",
    "    s = list(str(int(x) + int(y))[::-1]) + ['0']\n",
    "    for i in range(len(s) - 1):\n",
    "        if int(s[i]) > 1:\n",
    "            s[i + 1] = str(int(s[i + 1]) + 1)\n",
    "            s[i] = str(int(s[i]) - 2)\n",
    "    if s[-1] == 0:\n",
    "        s.pop()\n",
    "    return ''.join(s[::-1])"
   ]
  },
  {
   "cell_type": "code",
   "execution_count": 11,
   "id": "02fd8b70",
   "metadata": {},
   "outputs": [
    {
     "data": {
      "text/plain": [
       "'100'"
      ]
     },
     "execution_count": 11,
     "metadata": {},
     "output_type": "execute_result"
    },
    {
     "data": {
      "text/plain": [
       "'10110'"
      ]
     },
     "execution_count": 11,
     "metadata": {},
     "output_type": "execute_result"
    }
   ],
   "source": [
    "add_binary('11','1')\n",
    "add_binary('1111','111')"
   ]
  },
  {
   "cell_type": "markdown",
   "id": "4811eebe",
   "metadata": {},
   "source": [
    "### 6. Linked List\n",
    "\n",
    "You are given two non-empty linked lists representing two non-negative integers. The digits are stored in reverse order and each of their nodes contain a single digit. Add the two numbers and return it as a linked list. You may assume the two numbers do not contain any leading zero, except the number 0 itself."
   ]
  },
  {
   "cell_type": "code",
   "execution_count": 12,
   "id": "4f2810b1",
   "metadata": {},
   "outputs": [],
   "source": [
    "class ListNode:\n",
    "    def __init__(self, x):\n",
    "        self.val = x\n",
    "        self.next = None"
   ]
  },
  {
   "cell_type": "code",
   "execution_count": 13,
   "id": "b8989245",
   "metadata": {},
   "outputs": [],
   "source": [
    "def trans_linked_list(x):\n",
    "    if isinstance(x, int):\n",
    "        x = str(x)\n",
    "    x_list = list(x)\n",
    "    if len(x_list) == 1:\n",
    "        return ListNode(int(x))\n",
    "    else:\n",
    "        linked_list = ListNode(int(x_list.pop()))\n",
    "        linked_list.next = trans_linked_list(''.join(x_list))\n",
    "    return linked_list\n",
    "\n",
    "def output_linked_list(x, bracket = True):\n",
    "    x_list = []\n",
    "    while x:\n",
    "        x_list.append(str(x.val))\n",
    "        x = x.next\n",
    "    x_num = int(''.join(x_list[::-1]))\n",
    "    out = '->'.join(x_list)\n",
    "    if bracket:\n",
    "        out = '(' + out + ')'\n",
    "    return x_num, out\n",
    "\n",
    "def add_two_int(x: ListNode, y: ListNode) -> ListNode:\n",
    "    x_num, x_out = output_linked_list(x)\n",
    "    y_num, y_out = output_linked_list(y)\n",
    "    s_num = x_num + y_num\n",
    "    s_trans = trans_linked_list(s_num)\n",
    "    s_num, s_out = output_linked_list(s_trans, False)\n",
    "    print('+'.join([x_out, y_out]))\n",
    "    print(s_out)\n",
    "    return s_trans"
   ]
  },
  {
   "cell_type": "code",
   "execution_count": 14,
   "id": "89358e01",
   "metadata": {},
   "outputs": [
    {
     "name": "stdout",
     "output_type": "stream",
     "text": [
      "(2->4->3)+(5->6->4)\n",
      "7->0->8\n"
     ]
    }
   ],
   "source": [
    "x = trans_linked_list(342)\n",
    "y = trans_linked_list(465)\n",
    "s = add_two_int(x, y)"
   ]
  },
  {
   "cell_type": "code",
   "execution_count": 15,
   "id": "6ff8cac3",
   "metadata": {
    "scrolled": true
   },
   "outputs": [
    {
     "data": {
      "text/plain": [
       "((342, '(2->4->3)'), (465, '(5->6->4)'))"
      ]
     },
     "execution_count": 15,
     "metadata": {},
     "output_type": "execute_result"
    },
    {
     "data": {
      "text/plain": [
       "(__main__.ListNode, (807, '(7->0->8)'))"
      ]
     },
     "execution_count": 15,
     "metadata": {},
     "output_type": "execute_result"
    }
   ],
   "source": [
    "output_linked_list(x), output_linked_list(y)\n",
    "type(s), output_linked_list(s)"
   ]
  },
  {
   "cell_type": "markdown",
   "id": "de4318e3",
   "metadata": {},
   "source": [
    "### 7. Implement bubble sort."
   ]
  },
  {
   "cell_type": "code",
   "execution_count": 16,
   "id": "3bacabf5",
   "metadata": {},
   "outputs": [],
   "source": [
    "def bubble_sort(x):\n",
    "    change = True\n",
    "    while change:\n",
    "        change = False\n",
    "        for i in range(1, len(x)):\n",
    "            if x[i] < x[i - 1]:\n",
    "                x[i], x[i - 1] = x[i - 1], x[i]\n",
    "                change = True\n",
    "    return x"
   ]
  },
  {
   "cell_type": "code",
   "execution_count": 17,
   "id": "fcfc0368",
   "metadata": {},
   "outputs": [
    {
     "data": {
      "text/plain": [
       "[0, 1, 2, 2, 2, 3, 4, 5, 6, 7, 8]"
      ]
     },
     "execution_count": 17,
     "metadata": {},
     "output_type": "execute_result"
    }
   ],
   "source": [
    "bubble_sort([5,2,4,6,3,2,8,1,0,2,7])"
   ]
  },
  {
   "cell_type": "markdown",
   "id": "8d23a569",
   "metadata": {},
   "source": [
    "### 8. Implement merge sort."
   ]
  },
  {
   "cell_type": "code",
   "execution_count": 18,
   "id": "6069dbdb",
   "metadata": {},
   "outputs": [],
   "source": [
    "def merge(left, right):\n",
    "    out = []\n",
    "    while left and right:\n",
    "        if left[0] < right[0]:\n",
    "            out.append(left.pop(0))\n",
    "        else:\n",
    "            out.append(right.pop(0))\n",
    "    if left:\n",
    "        out += left\n",
    "    if right:\n",
    "        out += right\n",
    "    return out\n",
    "\n",
    "def merge_sort(x):\n",
    "    if len(x) == 1:\n",
    "        out = x\n",
    "    else:\n",
    "        x_left = x[:int(len(x) / 2)]\n",
    "        x_right = x[int(len(x) / 2):]\n",
    "        out = merge(merge_sort(x_left), merge_sort(x_right))\n",
    "    return out"
   ]
  },
  {
   "cell_type": "code",
   "execution_count": 19,
   "id": "22cd16eb",
   "metadata": {},
   "outputs": [
    {
     "data": {
      "text/plain": [
       "[0, 1, 2, 2, 2, 3, 4, 5, 6, 7, 8]"
      ]
     },
     "execution_count": 19,
     "metadata": {},
     "output_type": "execute_result"
    }
   ],
   "source": [
    "merge_sort([5,2,4,6,3,2,8,1,0,2,7])"
   ]
  },
  {
   "cell_type": "markdown",
   "id": "ebbe8731",
   "metadata": {},
   "source": [
    "### 9. Implement quick sort."
   ]
  },
  {
   "cell_type": "code",
   "execution_count": 20,
   "id": "00d7950f",
   "metadata": {},
   "outputs": [],
   "source": [
    "def quick_sort(x):\n",
    "    if len(x) == 1:\n",
    "        out = x\n",
    "    elif len(x) == 2:\n",
    "        if x[0] > x[1]:\n",
    "            x[0], x[1] = x[1], x[0]\n",
    "        out = x\n",
    "    else:\n",
    "        rf = 0\n",
    "        i = 0\n",
    "        j = len(x) - 1\n",
    "        while i < j:\n",
    "            for k in range(j, rf, -1):\n",
    "                if x[k] < x[rf]:\n",
    "                    x[rf], x[k] = x[k], x[rf]\n",
    "                    rf = k\n",
    "                    break\n",
    "            j = k\n",
    "            for k in range(i, rf):\n",
    "                if x[k] > x[rf]:\n",
    "                    x[rf], x[k] = x[k], x[rf]\n",
    "                    rf = k\n",
    "                    break\n",
    "            i = k\n",
    "        if rf == 0:\n",
    "            out = [x[rf]] + quick_sort(x[(rf + 1):])\n",
    "        elif rf == len(x) - 1:\n",
    "            out = quick_sort(x[:rf]) + [x[rf]]\n",
    "        else:\n",
    "            out = quick_sort(x[:rf]) + [x[rf]] + quick_sort(x[(rf + 1):])\n",
    "    return out"
   ]
  },
  {
   "cell_type": "code",
   "execution_count": 21,
   "id": "c724246c",
   "metadata": {},
   "outputs": [
    {
     "data": {
      "text/plain": [
       "[0, 1, 2, 2, 2, 3, 4, 5, 6, 7, 8]"
      ]
     },
     "execution_count": 21,
     "metadata": {},
     "output_type": "execute_result"
    }
   ],
   "source": [
    "quick_sort([5,2,4,6,3,2,8,1,0,2,7])"
   ]
  },
  {
   "cell_type": "markdown",
   "id": "9241bad4",
   "metadata": {},
   "source": [
    "### 10. Implement shell sort."
   ]
  },
  {
   "cell_type": "code",
   "execution_count": 22,
   "id": "504b31c0",
   "metadata": {},
   "outputs": [],
   "source": [
    "def insertion_sort(x):\n",
    "    for i in range(1, len(x)):\n",
    "        k = i\n",
    "        for j in range(i - 1, -1, -1):\n",
    "            if x[k] < x[j]:\n",
    "                x.insert(j, x.pop(k))\n",
    "                k = j\n",
    "    return x\n",
    "\n",
    "def shell_sort(x, interval):\n",
    "    if interval == 1:\n",
    "        out = x\n",
    "    else:\n",
    "        interval = int(interval / 2)\n",
    "        for i in range(len(x) - interval):\n",
    "            x[i::interval] = insertion_sort(x[i::interval])\n",
    "        out = shell_sort(x, interval)\n",
    "    return out"
   ]
  },
  {
   "cell_type": "code",
   "execution_count": 23,
   "id": "0efb659b",
   "metadata": {},
   "outputs": [
    {
     "data": {
      "text/plain": [
       "[0, 1, 2, 2, 2, 3, 4, 5, 6, 7, 8]"
      ]
     },
     "execution_count": 23,
     "metadata": {},
     "output_type": "execute_result"
    }
   ],
   "source": [
    "shell_sort([5,2,4,6,3,2,8,1,0,2,7], 11)"
   ]
  },
  {
   "cell_type": "markdown",
   "id": "02d1d906",
   "metadata": {},
   "source": [
    "### 11. Implement linear regression model and use autograd to optimize it by Pytorch."
   ]
  },
  {
   "cell_type": "code",
   "execution_count": 24,
   "id": "bc75800d",
   "metadata": {},
   "outputs": [],
   "source": [
    "def load_data(data_arrays, batch_size, is_train = True):\n",
    "    dataset = data.TensorDataset(*data_arrays)\n",
    "    return (data.DataLoader(dataset, batch_size, shuffle = is_train))\n",
    "\n",
    "def init_weights(m):\n",
    "    if type(m) == nn.Linear:\n",
    "        nn.init.normal_(m.weight, std = 0.01)\n",
    "\n",
    "def linear_reg(features, labels, loss, epoch_num, batch_size, lr):\n",
    "    net = nn.Sequential(nn.Linear(len(features[0]), 1))\n",
    "    net.apply(init_weights)\n",
    "    trainer = torch.optim.SGD(net.parameters(), lr = lr)\n",
    "    data_iter = load_data((features, labels), batch_size)\n",
    "    \n",
    "    for epoch in range(epoch_num):\n",
    "        for X, y in data_iter:\n",
    "            l = loss(net(X), y)\n",
    "            trainer.zero_grad()\n",
    "            l.backward()\n",
    "            trainer.step()\n",
    "        l = loss(net(features), labels)\n",
    "        print(f'epoch {epoch}, loss {l:f}')\n",
    "    \n",
    "    return net"
   ]
  },
  {
   "cell_type": "code",
   "execution_count": 25,
   "id": "30028b9a",
   "metadata": {},
   "outputs": [],
   "source": [
    "def generate_reg_data(w, b):\n",
    "    features = torch.normal(0, 1, (1000, 5))\n",
    "    labels = torch.matmul(features, w) + b\n",
    "    labels += torch.normal(0, 0.01, labels.shape)\n",
    "    labels = labels.reshape(-1, 1)\n",
    "    return features, labels"
   ]
  },
  {
   "cell_type": "code",
   "execution_count": 26,
   "id": "bdfa5866",
   "metadata": {},
   "outputs": [
    {
     "data": {
      "text/plain": [
       "tensor([ 1.1585, -1.1266,  0.2161,  0.1560,  1.2473])"
      ]
     },
     "execution_count": 26,
     "metadata": {},
     "output_type": "execute_result"
    },
    {
     "data": {
      "text/plain": [
       "0.5"
      ]
     },
     "execution_count": 26,
     "metadata": {},
     "output_type": "execute_result"
    },
    {
     "name": "stdout",
     "output_type": "stream",
     "text": [
      "epoch 0, loss 0.006389\n",
      "epoch 1, loss 0.000104\n",
      "epoch 2, loss 0.000094\n",
      "epoch 3, loss 0.000093\n",
      "epoch 4, loss 0.000094\n"
     ]
    },
    {
     "data": {
      "text/plain": [
       "tensor([[ 1.1587, -1.1257,  0.2168,  0.1561,  1.2477]])"
      ]
     },
     "execution_count": 26,
     "metadata": {},
     "output_type": "execute_result"
    },
    {
     "data": {
      "text/plain": [
       "tensor([0.5001])"
      ]
     },
     "execution_count": 26,
     "metadata": {},
     "output_type": "execute_result"
    }
   ],
   "source": [
    "w_true = torch.normal(0, 2, (1, 5))[0]\n",
    "b_true = 0.5\n",
    "w_true\n",
    "b_true\n",
    "features, labels = generate_reg_data(w_true, b_true)\n",
    "loss = nn.MSELoss()\n",
    "net_trained = linear_reg(features, labels, loss, 5, 20, 0.03)\n",
    "net_trained[0].weight.data\n",
    "net_trained[0].bias.data"
   ]
  },
  {
   "cell_type": "markdown",
   "id": "56403f8a",
   "metadata": {},
   "source": [
    "### 12. Implement logistic regression model and use autograd to optimize it by Pytorch."
   ]
  },
  {
   "cell_type": "code",
   "execution_count": 27,
   "id": "a0ed7332",
   "metadata": {},
   "outputs": [],
   "source": [
    "def logistic_reg(features, labels, loss, epoch_num, batch_size, lr):\n",
    "    net = nn.Sequential(nn.Linear(len(features[0]), 1), nn.Sigmoid())\n",
    "    net.apply(init_weights)\n",
    "    trainer = torch.optim.SGD(net.parameters(), lr = lr)\n",
    "    data_iter = load_data((features, labels), batch_size)\n",
    "    \n",
    "    def accuracy(y_hat, y):\n",
    "        acc = ((y_hat > 0.5) == y).sum()\n",
    "        return float(acc / len(y))\n",
    "\n",
    "    for epoch in range(epoch_num):\n",
    "        for X, y in data_iter:\n",
    "            l = loss(net(X), y)\n",
    "            trainer.zero_grad()\n",
    "            l.backward()\n",
    "            trainer.step()\n",
    "        l = loss(net(features), labels)\n",
    "        acc = accuracy(net(features), labels)\n",
    "        if epoch % 100 == 0:\n",
    "            print(f'epoch {epoch}, loss {l:.4f}, accuracy {acc*100:.2f}%')\n",
    "    \n",
    "    return net"
   ]
  },
  {
   "cell_type": "code",
   "execution_count": 28,
   "id": "ecd20fbe",
   "metadata": {},
   "outputs": [],
   "source": [
    "def generate_class_data(neg = 0):\n",
    "    x1 = torch.rand(500, 5) * 5 + 2\n",
    "    x0 = torch.rand(500, 5) * 3 - 5\n",
    "    features = torch.cat((x1, x0)) + torch.randn(1000, 1) * 2\n",
    "    labels = torch.cat((torch.tensor([1] * 500), torch.tensor([neg] * 500)))\n",
    "    labels = labels.reshape(-1, 1).float()\n",
    "    return features, labels"
   ]
  },
  {
   "cell_type": "code",
   "execution_count": 29,
   "id": "491b8667",
   "metadata": {},
   "outputs": [
    {
     "name": "stdout",
     "output_type": "stream",
     "text": [
      "epoch 0, loss 0.2846, accuracy 96.60%\n",
      "epoch 100, loss 0.0691, accuracy 97.20%\n",
      "epoch 200, loss 0.0668, accuracy 97.10%\n",
      "epoch 300, loss 0.0657, accuracy 97.20%\n",
      "epoch 400, loss 0.0650, accuracy 97.20%\n"
     ]
    }
   ],
   "source": [
    "features, labels = generate_class_data()\n",
    "loss = nn.BCELoss()\n",
    "net_trained = logistic_reg(features, labels, loss, 500, 20, 0.001)"
   ]
  },
  {
   "cell_type": "markdown",
   "id": "fe4f55bd",
   "metadata": {},
   "source": [
    "### 13. Implement linear SVM model for binary classification task and use autograd to optimize it by Pytorch.\n",
    "\n",
    "Hint: you may use the loss of $\\sum \\max [0, 1 − y (wx + b)]$."
   ]
  },
  {
   "cell_type": "code",
   "execution_count": 30,
   "id": "cee96577",
   "metadata": {},
   "outputs": [],
   "source": [
    "def svm_loss_1(y_hat, y):\n",
    "    s = 1 - y * y_hat\n",
    "    return ((s > 0) * s).sum()\n",
    "\n",
    "def linear_svm_1(features, labels, loss, epoch_num, batch_size, lr):\n",
    "    net = nn.Sequential(nn.Linear(len(features[0]), 1))\n",
    "    net.apply(init_weights)\n",
    "    trainer = torch.optim.SGD(net.parameters(), lr = lr)\n",
    "    data_iter = load_data((features, labels), batch_size)\n",
    "\n",
    "    def accuracy(y_hat, y):\n",
    "        acc = (y * y_hat > 0).sum()\n",
    "        return float(acc / len(y))\n",
    "    \n",
    "    for epoch in range(epoch_num):\n",
    "        for X, y in data_iter:\n",
    "            l = loss(net(X), y)\n",
    "            trainer.zero_grad()\n",
    "            l.backward()\n",
    "            trainer.step()\n",
    "        l = loss(net(features), labels)\n",
    "        acc = accuracy(net(features), labels)\n",
    "        if epoch % 100 == 0:\n",
    "            print(f'epoch {epoch}, loss {l:.4f}, accuracy {acc*100:.2f}%')\n",
    "    \n",
    "    return net"
   ]
  },
  {
   "cell_type": "code",
   "execution_count": 41,
   "id": "3b9bc6b4",
   "metadata": {},
   "outputs": [
    {
     "name": "stdout",
     "output_type": "stream",
     "text": [
      "epoch 0, loss 74.4712, accuracy 97.40%\n",
      "epoch 100, loss 69.3885, accuracy 97.60%\n",
      "epoch 200, loss 69.4126, accuracy 97.60%\n",
      "epoch 300, loss 69.3878, accuracy 97.60%\n",
      "epoch 400, loss 69.3735, accuracy 97.60%\n"
     ]
    }
   ],
   "source": [
    "features, labels = generate_class_data(-1)\n",
    "loss = svm_loss_1\n",
    "net_trained = linear_svm_1(features, labels, loss, 500, 20, 0.001)"
   ]
  },
  {
   "cell_type": "markdown",
   "id": "77f06ba2",
   "metadata": {},
   "source": [
    "### 14. Add a Frobenius norm penalty for the weight $w$ in your SVM model by two different ways:\n",
    "\n",
    "(1) Use a pytorch function to calculate the norm."
   ]
  },
  {
   "cell_type": "code",
   "execution_count": 33,
   "id": "a699c313",
   "metadata": {},
   "outputs": [],
   "source": [
    "def svm_loss_2(y_hat, y, w, alpha):\n",
    "    s = 1 - y * y_hat\n",
    "    s = ((s > 0) * s).sum()\n",
    "    return s + alpha * torch.norm(w)"
   ]
  },
  {
   "cell_type": "markdown",
   "id": "650bfeff",
   "metadata": {},
   "source": [
    "(2) Implement the code by yourself."
   ]
  },
  {
   "cell_type": "code",
   "execution_count": 34,
   "id": "0efd2af7",
   "metadata": {},
   "outputs": [],
   "source": [
    "def svm_loss_3(y_hat, y, w, alpha):\n",
    "    s = 1 - y * y_hat\n",
    "    s = ((s > 0) * s).sum()\n",
    "    return s + alpha * (w ** 2).sum() ** 0.5"
   ]
  },
  {
   "cell_type": "code",
   "execution_count": 35,
   "id": "032de60a",
   "metadata": {},
   "outputs": [],
   "source": [
    "def linear_svm_2(features, labels, loss, epoch_num, batch_size, lr):\n",
    "    net = nn.Sequential(nn.Linear(len(features[0]), 1))\n",
    "    trainer = torch.optim.SGD(net.parameters(), lr = lr)\n",
    "    data_iter = load_data((features, labels), batch_size)\n",
    "\n",
    "    def accuracy(y_hat, y):\n",
    "        acc = (y * y_hat > 0).sum()\n",
    "        return float(acc / len(y))\n",
    "    \n",
    "    for epoch in range(epoch_num):\n",
    "        for X, y in data_iter:\n",
    "            l = loss(net(X), y, net[0].weight.data, 2)\n",
    "            trainer.zero_grad()\n",
    "            l.backward()\n",
    "            trainer.step()\n",
    "        l = loss(net(features), labels, net[0].weight.data, 2)\n",
    "        acc = accuracy(net(features), labels)\n",
    "        if epoch % 100 == 0:\n",
    "            print(f'epoch {epoch}, loss {l:.4f}, accuracy {acc*100:.2f}%')\n",
    "    \n",
    "    return net"
   ]
  },
  {
   "cell_type": "code",
   "execution_count": 44,
   "id": "194d95bb",
   "metadata": {},
   "outputs": [
    {
     "name": "stdout",
     "output_type": "stream",
     "text": [
      "epoch 0, loss 110.2625, accuracy 95.80%\n",
      "epoch 100, loss 70.4370, accuracy 97.50%\n",
      "epoch 200, loss 70.4564, accuracy 97.50%\n",
      "epoch 300, loss 70.4144, accuracy 97.50%\n",
      "epoch 400, loss 70.4552, accuracy 97.50%\n"
     ]
    }
   ],
   "source": [
    "loss = svm_loss_2\n",
    "net_trained = linear_svm_2(features, labels, loss, 500, 20, 0.001)"
   ]
  },
  {
   "cell_type": "code",
   "execution_count": 45,
   "id": "97042d8c",
   "metadata": {},
   "outputs": [
    {
     "name": "stdout",
     "output_type": "stream",
     "text": [
      "epoch 0, loss 101.9124, accuracy 95.70%\n",
      "epoch 100, loss 70.4587, accuracy 97.60%\n",
      "epoch 200, loss 70.4329, accuracy 97.60%\n",
      "epoch 300, loss 70.4073, accuracy 97.60%\n",
      "epoch 400, loss 70.4213, accuracy 97.60%\n"
     ]
    }
   ],
   "source": [
    "loss = svm_loss_3\n",
    "net_trained = linear_svm_2(features, labels, loss, 500, 20, 0.001)"
   ]
  },
  {
   "cell_type": "markdown",
   "id": "c8fea07b",
   "metadata": {},
   "source": [
    "### 15. Learn how to use linear regression, logistic regression, and SVM by scikit-learn.\n",
    "\n",
    "(1) Linear Regression."
   ]
  },
  {
   "cell_type": "code",
   "execution_count": 37,
   "id": "6a266d4b",
   "metadata": {},
   "outputs": [
    {
     "data": {
      "text/html": [
       "<style>#sk-container-id-1 {color: black;background-color: white;}#sk-container-id-1 pre{padding: 0;}#sk-container-id-1 div.sk-toggleable {background-color: white;}#sk-container-id-1 label.sk-toggleable__label {cursor: pointer;display: block;width: 100%;margin-bottom: 0;padding: 0.3em;box-sizing: border-box;text-align: center;}#sk-container-id-1 label.sk-toggleable__label-arrow:before {content: \"▸\";float: left;margin-right: 0.25em;color: #696969;}#sk-container-id-1 label.sk-toggleable__label-arrow:hover:before {color: black;}#sk-container-id-1 div.sk-estimator:hover label.sk-toggleable__label-arrow:before {color: black;}#sk-container-id-1 div.sk-toggleable__content {max-height: 0;max-width: 0;overflow: hidden;text-align: left;background-color: #f0f8ff;}#sk-container-id-1 div.sk-toggleable__content pre {margin: 0.2em;color: black;border-radius: 0.25em;background-color: #f0f8ff;}#sk-container-id-1 input.sk-toggleable__control:checked~div.sk-toggleable__content {max-height: 200px;max-width: 100%;overflow: auto;}#sk-container-id-1 input.sk-toggleable__control:checked~label.sk-toggleable__label-arrow:before {content: \"▾\";}#sk-container-id-1 div.sk-estimator input.sk-toggleable__control:checked~label.sk-toggleable__label {background-color: #d4ebff;}#sk-container-id-1 div.sk-label input.sk-toggleable__control:checked~label.sk-toggleable__label {background-color: #d4ebff;}#sk-container-id-1 input.sk-hidden--visually {border: 0;clip: rect(1px 1px 1px 1px);clip: rect(1px, 1px, 1px, 1px);height: 1px;margin: -1px;overflow: hidden;padding: 0;position: absolute;width: 1px;}#sk-container-id-1 div.sk-estimator {font-family: monospace;background-color: #f0f8ff;border: 1px dotted black;border-radius: 0.25em;box-sizing: border-box;margin-bottom: 0.5em;}#sk-container-id-1 div.sk-estimator:hover {background-color: #d4ebff;}#sk-container-id-1 div.sk-parallel-item::after {content: \"\";width: 100%;border-bottom: 1px solid gray;flex-grow: 1;}#sk-container-id-1 div.sk-label:hover label.sk-toggleable__label {background-color: #d4ebff;}#sk-container-id-1 div.sk-serial::before {content: \"\";position: absolute;border-left: 1px solid gray;box-sizing: border-box;top: 0;bottom: 0;left: 50%;z-index: 0;}#sk-container-id-1 div.sk-serial {display: flex;flex-direction: column;align-items: center;background-color: white;padding-right: 0.2em;padding-left: 0.2em;position: relative;}#sk-container-id-1 div.sk-item {position: relative;z-index: 1;}#sk-container-id-1 div.sk-parallel {display: flex;align-items: stretch;justify-content: center;background-color: white;position: relative;}#sk-container-id-1 div.sk-item::before, #sk-container-id-1 div.sk-parallel-item::before {content: \"\";position: absolute;border-left: 1px solid gray;box-sizing: border-box;top: 0;bottom: 0;left: 50%;z-index: -1;}#sk-container-id-1 div.sk-parallel-item {display: flex;flex-direction: column;z-index: 1;position: relative;background-color: white;}#sk-container-id-1 div.sk-parallel-item:first-child::after {align-self: flex-end;width: 50%;}#sk-container-id-1 div.sk-parallel-item:last-child::after {align-self: flex-start;width: 50%;}#sk-container-id-1 div.sk-parallel-item:only-child::after {width: 0;}#sk-container-id-1 div.sk-dashed-wrapped {border: 1px dashed gray;margin: 0 0.4em 0.5em 0.4em;box-sizing: border-box;padding-bottom: 0.4em;background-color: white;}#sk-container-id-1 div.sk-label label {font-family: monospace;font-weight: bold;display: inline-block;line-height: 1.2em;}#sk-container-id-1 div.sk-label-container {text-align: center;}#sk-container-id-1 div.sk-container {/* jupyter's `normalize.less` sets `[hidden] { display: none; }` but bootstrap.min.css set `[hidden] { display: none !important; }` so we also need the `!important` here to be able to override the default hidden behavior on the sphinx rendered scikit-learn.org. See: https://github.com/scikit-learn/scikit-learn/issues/21755 */display: inline-block !important;position: relative;}#sk-container-id-1 div.sk-text-repr-fallback {display: none;}</style><div id=\"sk-container-id-1\" class=\"sk-top-container\"><div class=\"sk-text-repr-fallback\"><pre>LinearRegression()</pre><b>In a Jupyter environment, please rerun this cell to show the HTML representation or trust the notebook. <br />On GitHub, the HTML representation is unable to render, please try loading this page with nbviewer.org.</b></div><div class=\"sk-container\" hidden><div class=\"sk-item\"><div class=\"sk-estimator sk-toggleable\"><input class=\"sk-toggleable__control sk-hidden--visually\" id=\"sk-estimator-id-1\" type=\"checkbox\" checked><label for=\"sk-estimator-id-1\" class=\"sk-toggleable__label sk-toggleable__label-arrow\">LinearRegression</label><div class=\"sk-toggleable__content\"><pre>LinearRegression()</pre></div></div></div></div></div>"
      ],
      "text/plain": [
       "LinearRegression()"
      ]
     },
     "execution_count": 37,
     "metadata": {},
     "output_type": "execute_result"
    },
    {
     "name": "stdout",
     "output_type": "stream",
     "text": [
      "Linear Regression, R2 100.00%\n"
     ]
    }
   ],
   "source": [
    "features, labels = generate_reg_data(w_true, b_true)\n",
    "linear = LinearRegression()\n",
    "linear.fit(features, labels)\n",
    "print(f'Linear Regression, R2 {linear.score(features, labels)*100:.2f}%')"
   ]
  },
  {
   "cell_type": "markdown",
   "id": "8812c7fa",
   "metadata": {},
   "source": [
    "(2) Logistic Regression."
   ]
  },
  {
   "cell_type": "code",
   "execution_count": 38,
   "id": "74eeec37",
   "metadata": {},
   "outputs": [
    {
     "data": {
      "text/html": [
       "<style>#sk-container-id-2 {color: black;background-color: white;}#sk-container-id-2 pre{padding: 0;}#sk-container-id-2 div.sk-toggleable {background-color: white;}#sk-container-id-2 label.sk-toggleable__label {cursor: pointer;display: block;width: 100%;margin-bottom: 0;padding: 0.3em;box-sizing: border-box;text-align: center;}#sk-container-id-2 label.sk-toggleable__label-arrow:before {content: \"▸\";float: left;margin-right: 0.25em;color: #696969;}#sk-container-id-2 label.sk-toggleable__label-arrow:hover:before {color: black;}#sk-container-id-2 div.sk-estimator:hover label.sk-toggleable__label-arrow:before {color: black;}#sk-container-id-2 div.sk-toggleable__content {max-height: 0;max-width: 0;overflow: hidden;text-align: left;background-color: #f0f8ff;}#sk-container-id-2 div.sk-toggleable__content pre {margin: 0.2em;color: black;border-radius: 0.25em;background-color: #f0f8ff;}#sk-container-id-2 input.sk-toggleable__control:checked~div.sk-toggleable__content {max-height: 200px;max-width: 100%;overflow: auto;}#sk-container-id-2 input.sk-toggleable__control:checked~label.sk-toggleable__label-arrow:before {content: \"▾\";}#sk-container-id-2 div.sk-estimator input.sk-toggleable__control:checked~label.sk-toggleable__label {background-color: #d4ebff;}#sk-container-id-2 div.sk-label input.sk-toggleable__control:checked~label.sk-toggleable__label {background-color: #d4ebff;}#sk-container-id-2 input.sk-hidden--visually {border: 0;clip: rect(1px 1px 1px 1px);clip: rect(1px, 1px, 1px, 1px);height: 1px;margin: -1px;overflow: hidden;padding: 0;position: absolute;width: 1px;}#sk-container-id-2 div.sk-estimator {font-family: monospace;background-color: #f0f8ff;border: 1px dotted black;border-radius: 0.25em;box-sizing: border-box;margin-bottom: 0.5em;}#sk-container-id-2 div.sk-estimator:hover {background-color: #d4ebff;}#sk-container-id-2 div.sk-parallel-item::after {content: \"\";width: 100%;border-bottom: 1px solid gray;flex-grow: 1;}#sk-container-id-2 div.sk-label:hover label.sk-toggleable__label {background-color: #d4ebff;}#sk-container-id-2 div.sk-serial::before {content: \"\";position: absolute;border-left: 1px solid gray;box-sizing: border-box;top: 0;bottom: 0;left: 50%;z-index: 0;}#sk-container-id-2 div.sk-serial {display: flex;flex-direction: column;align-items: center;background-color: white;padding-right: 0.2em;padding-left: 0.2em;position: relative;}#sk-container-id-2 div.sk-item {position: relative;z-index: 1;}#sk-container-id-2 div.sk-parallel {display: flex;align-items: stretch;justify-content: center;background-color: white;position: relative;}#sk-container-id-2 div.sk-item::before, #sk-container-id-2 div.sk-parallel-item::before {content: \"\";position: absolute;border-left: 1px solid gray;box-sizing: border-box;top: 0;bottom: 0;left: 50%;z-index: -1;}#sk-container-id-2 div.sk-parallel-item {display: flex;flex-direction: column;z-index: 1;position: relative;background-color: white;}#sk-container-id-2 div.sk-parallel-item:first-child::after {align-self: flex-end;width: 50%;}#sk-container-id-2 div.sk-parallel-item:last-child::after {align-self: flex-start;width: 50%;}#sk-container-id-2 div.sk-parallel-item:only-child::after {width: 0;}#sk-container-id-2 div.sk-dashed-wrapped {border: 1px dashed gray;margin: 0 0.4em 0.5em 0.4em;box-sizing: border-box;padding-bottom: 0.4em;background-color: white;}#sk-container-id-2 div.sk-label label {font-family: monospace;font-weight: bold;display: inline-block;line-height: 1.2em;}#sk-container-id-2 div.sk-label-container {text-align: center;}#sk-container-id-2 div.sk-container {/* jupyter's `normalize.less` sets `[hidden] { display: none; }` but bootstrap.min.css set `[hidden] { display: none !important; }` so we also need the `!important` here to be able to override the default hidden behavior on the sphinx rendered scikit-learn.org. See: https://github.com/scikit-learn/scikit-learn/issues/21755 */display: inline-block !important;position: relative;}#sk-container-id-2 div.sk-text-repr-fallback {display: none;}</style><div id=\"sk-container-id-2\" class=\"sk-top-container\"><div class=\"sk-text-repr-fallback\"><pre>LogisticRegression()</pre><b>In a Jupyter environment, please rerun this cell to show the HTML representation or trust the notebook. <br />On GitHub, the HTML representation is unable to render, please try loading this page with nbviewer.org.</b></div><div class=\"sk-container\" hidden><div class=\"sk-item\"><div class=\"sk-estimator sk-toggleable\"><input class=\"sk-toggleable__control sk-hidden--visually\" id=\"sk-estimator-id-2\" type=\"checkbox\" checked><label for=\"sk-estimator-id-2\" class=\"sk-toggleable__label sk-toggleable__label-arrow\">LogisticRegression</label><div class=\"sk-toggleable__content\"><pre>LogisticRegression()</pre></div></div></div></div></div>"
      ],
      "text/plain": [
       "LogisticRegression()"
      ]
     },
     "execution_count": 38,
     "metadata": {},
     "output_type": "execute_result"
    },
    {
     "name": "stdout",
     "output_type": "stream",
     "text": [
      "Logistic Regression, accuracy 96.90%\n"
     ]
    }
   ],
   "source": [
    "features, labels = generate_class_data()\n",
    "labels = labels.reshape(-1)\n",
    "logistic = LogisticRegression()\n",
    "logistic.fit(features, labels)\n",
    "print(f'Logistic Regression, accuracy {logistic.score(features, labels)*100:.2f}%')"
   ]
  },
  {
   "cell_type": "markdown",
   "id": "d899ebf9",
   "metadata": {},
   "source": [
    "(3) SVM."
   ]
  },
  {
   "cell_type": "code",
   "execution_count": 39,
   "id": "6fea418f",
   "metadata": {},
   "outputs": [
    {
     "data": {
      "text/html": [
       "<style>#sk-container-id-3 {color: black;background-color: white;}#sk-container-id-3 pre{padding: 0;}#sk-container-id-3 div.sk-toggleable {background-color: white;}#sk-container-id-3 label.sk-toggleable__label {cursor: pointer;display: block;width: 100%;margin-bottom: 0;padding: 0.3em;box-sizing: border-box;text-align: center;}#sk-container-id-3 label.sk-toggleable__label-arrow:before {content: \"▸\";float: left;margin-right: 0.25em;color: #696969;}#sk-container-id-3 label.sk-toggleable__label-arrow:hover:before {color: black;}#sk-container-id-3 div.sk-estimator:hover label.sk-toggleable__label-arrow:before {color: black;}#sk-container-id-3 div.sk-toggleable__content {max-height: 0;max-width: 0;overflow: hidden;text-align: left;background-color: #f0f8ff;}#sk-container-id-3 div.sk-toggleable__content pre {margin: 0.2em;color: black;border-radius: 0.25em;background-color: #f0f8ff;}#sk-container-id-3 input.sk-toggleable__control:checked~div.sk-toggleable__content {max-height: 200px;max-width: 100%;overflow: auto;}#sk-container-id-3 input.sk-toggleable__control:checked~label.sk-toggleable__label-arrow:before {content: \"▾\";}#sk-container-id-3 div.sk-estimator input.sk-toggleable__control:checked~label.sk-toggleable__label {background-color: #d4ebff;}#sk-container-id-3 div.sk-label input.sk-toggleable__control:checked~label.sk-toggleable__label {background-color: #d4ebff;}#sk-container-id-3 input.sk-hidden--visually {border: 0;clip: rect(1px 1px 1px 1px);clip: rect(1px, 1px, 1px, 1px);height: 1px;margin: -1px;overflow: hidden;padding: 0;position: absolute;width: 1px;}#sk-container-id-3 div.sk-estimator {font-family: monospace;background-color: #f0f8ff;border: 1px dotted black;border-radius: 0.25em;box-sizing: border-box;margin-bottom: 0.5em;}#sk-container-id-3 div.sk-estimator:hover {background-color: #d4ebff;}#sk-container-id-3 div.sk-parallel-item::after {content: \"\";width: 100%;border-bottom: 1px solid gray;flex-grow: 1;}#sk-container-id-3 div.sk-label:hover label.sk-toggleable__label {background-color: #d4ebff;}#sk-container-id-3 div.sk-serial::before {content: \"\";position: absolute;border-left: 1px solid gray;box-sizing: border-box;top: 0;bottom: 0;left: 50%;z-index: 0;}#sk-container-id-3 div.sk-serial {display: flex;flex-direction: column;align-items: center;background-color: white;padding-right: 0.2em;padding-left: 0.2em;position: relative;}#sk-container-id-3 div.sk-item {position: relative;z-index: 1;}#sk-container-id-3 div.sk-parallel {display: flex;align-items: stretch;justify-content: center;background-color: white;position: relative;}#sk-container-id-3 div.sk-item::before, #sk-container-id-3 div.sk-parallel-item::before {content: \"\";position: absolute;border-left: 1px solid gray;box-sizing: border-box;top: 0;bottom: 0;left: 50%;z-index: -1;}#sk-container-id-3 div.sk-parallel-item {display: flex;flex-direction: column;z-index: 1;position: relative;background-color: white;}#sk-container-id-3 div.sk-parallel-item:first-child::after {align-self: flex-end;width: 50%;}#sk-container-id-3 div.sk-parallel-item:last-child::after {align-self: flex-start;width: 50%;}#sk-container-id-3 div.sk-parallel-item:only-child::after {width: 0;}#sk-container-id-3 div.sk-dashed-wrapped {border: 1px dashed gray;margin: 0 0.4em 0.5em 0.4em;box-sizing: border-box;padding-bottom: 0.4em;background-color: white;}#sk-container-id-3 div.sk-label label {font-family: monospace;font-weight: bold;display: inline-block;line-height: 1.2em;}#sk-container-id-3 div.sk-label-container {text-align: center;}#sk-container-id-3 div.sk-container {/* jupyter's `normalize.less` sets `[hidden] { display: none; }` but bootstrap.min.css set `[hidden] { display: none !important; }` so we also need the `!important` here to be able to override the default hidden behavior on the sphinx rendered scikit-learn.org. See: https://github.com/scikit-learn/scikit-learn/issues/21755 */display: inline-block !important;position: relative;}#sk-container-id-3 div.sk-text-repr-fallback {display: none;}</style><div id=\"sk-container-id-3\" class=\"sk-top-container\"><div class=\"sk-text-repr-fallback\"><pre>LinearSVC()</pre><b>In a Jupyter environment, please rerun this cell to show the HTML representation or trust the notebook. <br />On GitHub, the HTML representation is unable to render, please try loading this page with nbviewer.org.</b></div><div class=\"sk-container\" hidden><div class=\"sk-item\"><div class=\"sk-estimator sk-toggleable\"><input class=\"sk-toggleable__control sk-hidden--visually\" id=\"sk-estimator-id-3\" type=\"checkbox\" checked><label for=\"sk-estimator-id-3\" class=\"sk-toggleable__label sk-toggleable__label-arrow\">LinearSVC</label><div class=\"sk-toggleable__content\"><pre>LinearSVC()</pre></div></div></div></div></div>"
      ],
      "text/plain": [
       "LinearSVC()"
      ]
     },
     "execution_count": 39,
     "metadata": {},
     "output_type": "execute_result"
    },
    {
     "name": "stdout",
     "output_type": "stream",
     "text": [
      "SVM, accuracy 97.00%\n"
     ]
    }
   ],
   "source": [
    "svc = LinearSVC()\n",
    "svc.fit(features, labels)\n",
    "print(f'SVM, accuracy {svc.score(features, labels)*100:.2f}%')"
   ]
  },
  {
   "cell_type": "markdown",
   "id": "27618914",
   "metadata": {},
   "source": [
    "### 16. Download CIFAR-10 dataset and visualize some of its images."
   ]
  },
  {
   "cell_type": "code",
   "execution_count": 47,
   "id": "545be29f",
   "metadata": {},
   "outputs": [
    {
     "name": "stdout",
     "output_type": "stream",
     "text": [
      "Files already downloaded and verified\n",
      "Files already downloaded and verified\n"
     ]
    }
   ],
   "source": [
    "cifar_data_path = 'data/cifar10'\n",
    "trans_1 = transforms.ToTensor()\n",
    "cifar_train = torchvision.datasets.CIFAR10(cifar_data_path, train=True, transform=trans_1, download=True)\n",
    "cifar_test = torchvision.datasets.CIFAR10(cifar_data_path, train=False, transform=trans_1, download=True)"
   ]
  },
  {
   "cell_type": "code",
   "execution_count": 41,
   "id": "a01876e6",
   "metadata": {},
   "outputs": [],
   "source": [
    "def get_cifar_labels(labels):\n",
    "    text_labels = ['airplane', 'automobile', 'bird', 'cat', 'deer',\n",
    "                   'dog', 'frog', 'horse', 'ship', 'truck']\n",
    "    return [text_labels[int(i)] for i in labels]"
   ]
  },
  {
   "cell_type": "code",
   "execution_count": 42,
   "id": "c0e16b05",
   "metadata": {},
   "outputs": [],
   "source": [
    "def show_cifar(imgs, num_rows, num_cols, titles, scale=1.5):\n",
    "    figsize = (num_cols * scale, num_rows * scale)\n",
    "    _, axes = plt.subplots(num_rows, num_cols, figsize=figsize)\n",
    "    axes = axes.flatten()\n",
    "    for i, (ax, img) in enumerate(zip(axes, imgs)):\n",
    "        img = img.reshape(-1, 1024)\n",
    "        image = np.zeros((32, 32, 3))\n",
    "        image[:, :, 0] = img[0, :].reshape(32, 32)\n",
    "        image[:, :, 1] = img[1, :].reshape(32, 32)\n",
    "        image[:, :, 2] = img[2, :].reshape(32, 32)\n",
    "        ax.imshow(image)\n",
    "        ax.axes.get_xaxis().set_visible(False)\n",
    "        ax.axes.get_yaxis().set_visible(False)\n",
    "        ax.set_title(titles[i])\n",
    "    plt.show()"
   ]
  },
  {
   "cell_type": "code",
   "execution_count": 43,
   "id": "4e833150",
   "metadata": {},
   "outputs": [
    {
     "data": {
      "image/png": "[encoded data removed]",
      "text/plain": [
       "<Figure size 1200x300 with 16 Axes>"
      ]
     },
     "metadata": {},
     "output_type": "display_data"
    }
   ],
   "source": [
    "X, y = next(iter(data.DataLoader(cifar_train, batch_size = 16)))\n",
    "show_cifar(X.reshape(16, 3, 32, 32), 2, 8, get_cifar_labels(y))"
   ]
  },
  {
   "cell_type": "markdown",
   "id": "d16c1fa7",
   "metadata": {},
   "source": [
    "### 17. Write a dataset class for loading CIFAR-10. Make sure it could be transferred to Pytorch Dataloader. \n",
    "\n",
    "The class should meet the following requirements: (1) Inherit pytorch’s DataSet class; (2) Load the image file and save in proper way; (3) Override \\_\\_getitem__ and \\_\\_len__ methods."
   ]
  },
  {
   "cell_type": "code",
   "execution_count": 44,
   "id": "4a940d4b",
   "metadata": {},
   "outputs": [],
   "source": [
    "class cifar_loader(data.dataset.Dataset):\n",
    "    \n",
    "    def __init__(self, path, train = True):\n",
    "        self.path = path\n",
    "        self.train = train\n",
    "        data = []\n",
    "        labels = []\n",
    "        if self.train:\n",
    "            image_list = [self.path + '/data_batch_' + str(i) for i in range(1,6)]\n",
    "        else:\n",
    "            image_list = [self.path + '/test_batch']\n",
    "        for image in image_list:\n",
    "            with open(image, 'rb') as f:\n",
    "                image_dict = pickle.load(f, encoding='bytes')\n",
    "                data += [image_dict[b'data']]\n",
    "                labels += [image_dict[b'labels']]\n",
    "        data = np.concatenate(data)\n",
    "        labels = np.concatenate(labels)\n",
    "        self.data = np.reshape(data,[-1, 3, 32, 32]) / 255\n",
    "        self.labels = labels\n",
    "    \n",
    "    def __len__(self):\n",
    "        return self.data.shape[0]\n",
    "    \n",
    "    def __getitem__(self, idx):\n",
    "        return self.data[idx], self.labels[idx]"
   ]
  },
  {
   "cell_type": "code",
   "execution_count": 45,
   "id": "43dff2b3",
   "metadata": {},
   "outputs": [],
   "source": [
    "cifar_path = 'data/cifar10/cifar-10-batches-py'\n",
    "cifar_train_1 = cifar_loader(cifar_path, train = True)\n",
    "cifar_test_1 = cifar_loader(cifar_path, train = False)"
   ]
  },
  {
   "cell_type": "code",
   "execution_count": 46,
   "id": "909ee9f8",
   "metadata": {},
   "outputs": [
    {
     "data": {
      "text/plain": [
       "((50000, 3, 32, 32), (10000, 32, 32, 3))"
      ]
     },
     "execution_count": 46,
     "metadata": {},
     "output_type": "execute_result"
    }
   ],
   "source": [
    "cifar_train_1.data.shape, cifar_test.data.shape"
   ]
  },
  {
   "cell_type": "code",
   "execution_count": 47,
   "id": "77ada781",
   "metadata": {},
   "outputs": [
    {
     "data": {
      "image/png": "[encoded data removed]",
      "text/plain": [
       "<Figure size 1200x300 with 16 Axes>"
      ]
     },
     "metadata": {},
     "output_type": "display_data"
    }
   ],
   "source": [
    "X, y = next(iter(data.DataLoader(cifar_train_1, batch_size = 16)))\n",
    "show_cifar(X, 2, 8, get_cifar_labels(y))"
   ]
  },
  {
   "cell_type": "markdown",
   "id": "cc057067",
   "metadata": {},
   "source": [
    "### 18. Read and learn how to use *torchvision.transforms* to transform images."
   ]
  },
  {
   "cell_type": "code",
   "execution_count": 48,
   "id": "85200fb3",
   "metadata": {},
   "outputs": [
    {
     "name": "stdout",
     "output_type": "stream",
     "text": [
      "Files already downloaded and verified\n"
     ]
    }
   ],
   "source": [
    "trans_2 = transforms.Compose([\n",
    "    transforms.RandomCrop(32, padding=4),\n",
    "    transforms.RandomHorizontalFlip(),\n",
    "    transforms.ToTensor()\n",
    "])\n",
    "cifar_train_trans = torchvision.datasets.CIFAR10(cifar_data_path, train = True, transform = trans_2, download = True)"
   ]
  },
  {
   "cell_type": "code",
   "execution_count": 49,
   "id": "3ab4a21b",
   "metadata": {},
   "outputs": [
    {
     "data": {
      "image/png": "[encoded data removed]",
      "text/plain": [
       "<Figure size 1200x300 with 16 Axes>"
      ]
     },
     "metadata": {},
     "output_type": "display_data"
    }
   ],
   "source": [
    "X, y = next(iter(data.DataLoader(cifar_train_trans, batch_size = 16)))\n",
    "show_cifar(X.reshape(16, 3, 32, 32), 2, 8, get_cifar_labels(y))"
   ]
  },
  {
   "cell_type": "markdown",
   "id": "9de641e6",
   "metadata": {},
   "source": [
    "### 19. Run one epoch for loading CIFAR-10 with Pytorch Dataloader and test the loading time of different *batch_size* (1, 4, 64, 1024), different *num_workers* (0,1,4,16), and whether use *pin_memory* or not."
   ]
  },
  {
   "cell_type": "markdown",
   "source": [
    "Set the default values of *batch_size*, *num_workers*, *pin_memory* respectively as 4, 0 and `True`."
   ],
   "metadata": {
    "collapsed": false
   }
  },
  {
   "cell_type": "code",
   "execution_count": 6,
   "outputs": [],
   "source": [
    "def load_one_epoch(batch_size = 64, num_workers = 0, pin_memory = True):\n",
    "    _, _ = next(iter(data.DataLoader(cifar_train,\n",
    "                                     batch_size = batch_size,\n",
    "                                     num_workers = num_workers,\n",
    "                                     pin_memory = pin_memory)))"
   ],
   "metadata": {
    "collapsed": false
   }
  },
  {
   "cell_type": "markdown",
   "source": [
    "- With *batch_size* increasing and other parameters fixed, the loading time also increases."
   ],
   "metadata": {
    "collapsed": false
   }
  },
  {
   "cell_type": "code",
   "execution_count": 7,
   "outputs": [
    {
     "name": "stdout",
     "output_type": "stream",
     "text": [
      "90.7 µs ± 3.29 µs per loop (mean ± std. dev. of 7 runs, 10,000 loops each)\n",
      "220 µs ± 1.92 µs per loop (mean ± std. dev. of 7 runs, 1,000 loops each)\n",
      "2.5 ms ± 28.8 µs per loop (mean ± std. dev. of 7 runs, 100 loops each)\n",
      "41.6 ms ± 1.11 ms per loop (mean ± std. dev. of 7 runs, 10 loops each)\n"
     ]
    }
   ],
   "source": [
    "%timeit load_one_epoch(batch_size = 1)\n",
    "%timeit load_one_epoch(batch_size = 4)\n",
    "%timeit load_one_epoch(batch_size = 64)\n",
    "%timeit load_one_epoch(batch_size = 1024)"
   ],
   "metadata": {
    "collapsed": false
   }
  },
  {
   "cell_type": "markdown",
   "source": [
    "- With *pin_memory* open and other parameters fixed, the loading time decreases."
   ],
   "metadata": {
    "collapsed": false
   }
  },
  {
   "cell_type": "code",
   "execution_count": 8,
   "outputs": [
    {
     "name": "stdout",
     "output_type": "stream",
     "text": [
      "2.48 ms ± 8.88 µs per loop (mean ± std. dev. of 7 runs, 1,000 loops each)\n",
      "2.45 ms ± 16 µs per loop (mean ± std. dev. of 7 runs, 1,000 loops each)\n"
     ]
    }
   ],
   "source": [
    "%timeit -n 1000 load_one_epoch(pin_memory = False)\n",
    "%timeit -n 1000 load_one_epoch(pin_memory = True)"
   ],
   "metadata": {
    "collapsed": false
   }
  },
  {
   "cell_type": "markdown",
   "source": [
    "- With *num_workers* increasing and other parameters fixed, the loading time also increases."
   ],
   "metadata": {
    "collapsed": false
   }
  },
  {
   "cell_type": "code",
   "execution_count": 9,
   "outputs": [
    {
     "name": "stdout",
     "output_type": "stream",
     "text": [
      "2.53 ms ± 31.9 µs per loop (mean ± std. dev. of 7 runs, 100 loops each)\n",
      "1.02 s ± 14.2 ms per loop (mean ± std. dev. of 7 runs, 1 loop each)\n",
      "3.79 s ± 20.5 ms per loop (mean ± std. dev. of 7 runs, 1 loop each)\n",
      "15.4 s ± 286 ms per loop (mean ± std. dev. of 7 runs, 1 loop each)\n"
     ]
    }
   ],
   "source": [
    "%timeit load_one_epoch(num_workers = 0)\n",
    "%timeit load_one_epoch(num_workers = 1)\n",
    "%timeit load_one_epoch(num_workers = 4)\n",
    "%timeit load_one_epoch(num_workers = 16)"
   ],
   "metadata": {
    "collapsed": false
   }
  },
  {
   "cell_type": "markdown",
   "id": "93a79f94",
   "metadata": {},
   "source": [
    "### 20. Calculate the mean and std of CIFAR-10’ training set within each RGB channel."
   ]
  },
  {
   "cell_type": "code",
   "execution_count": 48,
   "id": "918825cb",
   "metadata": {},
   "outputs": [
    {
     "name": "stdout",
     "output_type": "stream",
     "text": [
      "R: mean: 125.3072, std: 62.9934\n",
      "G: mean: 122.9505, std: 62.0885\n",
      "B: mean: 113.8653, std: 66.7048\n"
     ]
    }
   ],
   "source": [
    "train_dataloader = data.DataLoader(cifar_train, batch_size = 50000)\n",
    "for X, _ in train_dataloader:\n",
    "    train_mean = np.mean(X.numpy(), axis = (0, 2, 3)) * 255\n",
    "    train_std = np.std(X.numpy(), axis = (0, 2, 3)) * 255\n",
    "    print('R: mean: {:.4f}, std: {:.4f}'.format(train_mean[0], train_std[0]))\n",
    "    print('G: mean: {:.4f}, std: {:.4f}'.format(train_mean[1], train_std[1]))\n",
    "    print('B: mean: {:.4f}, std: {:.4f}'.format(train_mean[2], train_std[2]))"
   ]
  },
  {
   "cell_type": "markdown",
   "id": "1fc2a07f",
   "metadata": {},
   "source": [
    "### 21. Image to character painting\n",
    "\n",
    "(a) Target: Converting the RGB color image to character painting with Python code.\n",
    "- Character painting is a combination of a series of characters. We can think of characters as relatively large pixels. A character can represent a color. The more types of characters, the more colors can be represented, and the picture will be more hierarchical sense\n",
    "\n",
    "(b) Requirements\n",
    "- Python 3.5\n",
    "- pillow 5.1.0\n",
    "\n",
    "(c) Method\n",
    "- Use PIL (pillow) to get the input picture\n",
    "- Use the following formula to map RGB values to gray values (note that this formula is not a real algorithm, but a simplified sRGB IEC61966-2.1 formula): $gray = 0.2126 * r + 0.7152 * g + 0.0722 * b$\n",
    "- Create a character list (length and content are customized)\n",
    "- Map the gray value to characters and save the result with a string (note the corresponding picture size, add line breaks)\n",
    "- Export character painting to a .txt file"
   ]
  },
  {
   "cell_type": "code",
   "execution_count": 49,
   "id": "7df91ed5",
   "metadata": {},
   "outputs": [],
   "source": [
    "def image_to_character(path, new_shape = None):\n",
    "    char = list('$) ')\n",
    "    img = Image.open(path)\n",
    "    img = img.convert('RGB')\n",
    "    if new_shape is not None:\n",
    "        img = img.resize(new_shape)\n",
    "    fp = open('output/image character.txt', 'w')\n",
    "    width, height = img.size\n",
    "    for i in range(1, height):\n",
    "        for j in range(1, width):\n",
    "            R, G, B = img.getpixel((j, i))\n",
    "            gray = 0.2126 * R + 0.7152 * G + 0.0722 * B\n",
    "            fp.write(char[int((gray - 1) * 3 / 255)])\n",
    "        fp.write('\\n')\n",
    "    fp.close()"
   ]
  },
  {
   "cell_type": "code",
   "execution_count": 50,
   "id": "cf41629e",
   "metadata": {
    "scrolled": false
   },
   "outputs": [
    {
     "data": {
      "image/png": "[encoded data removed]",
      "text/plain": [
       "<PIL.JpegImagePlugin.JpegImageFile image mode=RGB size=1994x1940>"
      ]
     },
     "metadata": {},
     "output_type": "display_data"
    }
   ],
   "source": [
    "image_to_character(r'figures/sheep.jpg', (250, 150))\n",
    "display(Image.open(r'figures/sheep_character.jpg'))"
   ]
  },
  {
   "cell_type": "markdown",
   "id": "726c1e41",
   "metadata": {},
   "source": [
    "### 22. Numpy exercises\n",
    "- Consider a random $10\\times 2$ matrix representing cartesian coordinates, convert them to polar coordinates."
   ]
  },
  {
   "cell_type": "code",
   "execution_count": 51,
   "id": "101406b4",
   "metadata": {},
   "outputs": [],
   "source": [
    "def cartesian_to_polar(old):\n",
    "    new = np.zeros(old.shape)\n",
    "    new[:, 0] = np.sqrt((old ** 2).sum(1))\n",
    "    new[:, 1] = np.arctan2(old[:, 1], old[:, 0])\n",
    "    return new"
   ]
  },
  {
   "cell_type": "code",
   "execution_count": 52,
   "id": "2ed2c410",
   "metadata": {},
   "outputs": [
    {
     "data": {
      "text/plain": [
       "(array([[ 0,  1],\n",
       "        [ 2,  3],\n",
       "        [ 4,  5],\n",
       "        [ 6,  7],\n",
       "        [ 8,  9],\n",
       "        [10, 11],\n",
       "        [12, 13],\n",
       "        [14, 15],\n",
       "        [16, 17],\n",
       "        [18, 19]]),\n",
       " array([[ 1.        ,  1.57079633],\n",
       "        [ 3.60555128,  0.98279372],\n",
       "        [ 6.40312424,  0.89605538],\n",
       "        [ 9.21954446,  0.86217005],\n",
       "        [12.04159458,  0.84415399],\n",
       "        [14.86606875,  0.83298127],\n",
       "        [17.69180601,  0.82537685],\n",
       "        [20.51828453,  0.81986726],\n",
       "        [23.34523506,  0.81569192],\n",
       "        [26.17250466,  0.81241861]]))"
      ]
     },
     "execution_count": 52,
     "metadata": {},
     "output_type": "execute_result"
    }
   ],
   "source": [
    "A = np.arange(20).reshape(10, 2)\n",
    "A, cartesian_to_polar(A)"
   ]
  },
  {
   "cell_type": "markdown",
   "id": "f8caa328",
   "metadata": {},
   "source": [
    "- Create a 2D array subclass such that $\\text{Z[i, j] == Z[j, i]}$.\n",
    "\n",
    "Create a new subclass `Symmetric` that inherits `numpy.ndarray`, and then use `super` to rewrite the `__setitem__` function so that the values can be changed symmetrically."
   ]
  },
  {
   "cell_type": "code",
   "execution_count": 53,
   "id": "9eed3c9a",
   "metadata": {},
   "outputs": [],
   "source": [
    "class Symmetric(np.ndarray):\n",
    "    \n",
    "    def __setitem__(self, index, value):\n",
    "        i, j = index\n",
    "        super(Symmetric, self).__setitem__((i,j), value)\n",
    "        super(Symmetric, self).__setitem__((j,i), value)\n",
    "\n",
    "def symmetric_matrix(content, shape):\n",
    "    A = content.reshape(shape)\n",
    "    A += A.T - np.diag(A.diagonal())\n",
    "    return np.asarray(A).view(Symmetric)"
   ]
  },
  {
   "cell_type": "code",
   "execution_count": 54,
   "id": "ea11015b",
   "metadata": {},
   "outputs": [
    {
     "data": {
      "text/plain": [
       "Symmetric([[ 0,  6, 12, 18, 24],\n",
       "           [ 6,  6, 18, 24, 30],\n",
       "           [12, 18, 12, 30, 36],\n",
       "           [18, 24, 30, 18, 42],\n",
       "           [24, 30, 36, 42, 24]])"
      ]
     },
     "execution_count": 54,
     "metadata": {},
     "output_type": "execute_result"
    },
    {
     "data": {
      "text/plain": [
       "Symmetric([[ 0,  6, 12, 18, 24],\n",
       "           [ 6,  6, 15, 24, 30],\n",
       "           [12, 15, 12, 30, 36],\n",
       "           [18, 24, 30, 18, 42],\n",
       "           [24, 30, 36, 42, 24]])"
      ]
     },
     "execution_count": 54,
     "metadata": {},
     "output_type": "execute_result"
    }
   ],
   "source": [
    "A = symmetric_matrix(np.arange(25), (5, 5))\n",
    "A\n",
    "A[1, 2] = 15\n",
    "A"
   ]
  },
  {
   "cell_type": "markdown",
   "id": "1f992902",
   "metadata": {},
   "source": [
    "- Consider 2 sets of points P0, P1 describing lines (2d) and a set of points P, how to compute distance from each point j ($\\text{P[j]}$) to each line i ($\\text{P0[j]}$,$\\text{Pi[j]}$)?\n",
    "\n",
    "$$distance=\\frac{|(x-x_0)(y_1-y_0)-(y-y_0)(x_1-x_0)|}{\\sqrt{(x_1-x_0)^2+(y_1-y_0)^2}}$$"
   ]
  },
  {
   "cell_type": "code",
   "execution_count": 55,
   "id": "6df3515a",
   "metadata": {},
   "outputs": [],
   "source": [
    "def distance(P0, P1, p):\n",
    "    return np.abs((p[0] - P0[:, 0]) * (P1[:, 1] - P0[:, 1]) - (p[1] - P0[:, 1]) * (P1[:, 0] - P0[:, 0])) / np.sqrt(((P1 - P0) ** 2).sum(1))"
   ]
  },
  {
   "cell_type": "code",
   "execution_count": 56,
   "id": "3e0543b0",
   "metadata": {},
   "outputs": [
    {
     "data": {
      "text/plain": [
       "array([[0.32483353, 1.92612645, 0.69976546, 0.90720964, 1.42071621,\n",
       "        0.64200866, 0.13126819, 1.63098195, 0.80301274, 0.49261734],\n",
       "       [0.69837399, 1.37647106, 1.68664007, 1.43935254, 0.33249645,\n",
       "        0.29594313, 0.77701719, 1.41625731, 1.28244124, 0.7242145 ],\n",
       "       [0.40924868, 0.15550377, 1.21510287, 0.43579388, 0.57542692,\n",
       "        1.24608413, 1.9575947 , 0.14130551, 0.24103294, 1.99923189],\n",
       "       [0.46727146, 1.30557318, 1.4299441 , 1.19292166, 0.57561785,\n",
       "        0.2535455 , 0.82371656, 1.27352803, 1.04063477, 0.86372668],\n",
       "       [0.25383539, 0.3076908 , 1.29773764, 0.5804598 , 0.52131798,\n",
       "        1.13780621, 1.81271585, 0.3073693 , 0.38970676, 1.83349507],\n",
       "       [1.17646293, 2.61189115, 1.28018331, 1.72980084, 0.96910983,\n",
       "        1.04139017, 0.50173768, 2.44160542, 1.63747394, 0.31361048],\n",
       "       [0.68123786, 2.44116836, 1.12697441, 0.33153943, 3.34123894,\n",
       "        1.90468431, 0.5597756 , 1.56196622, 0.3595063 , 0.5331536 ],\n",
       "       [1.07847066, 2.33971416, 1.3798168 , 1.67408793, 0.81878344,\n",
       "        0.74246894, 0.21905233, 2.2187313 , 1.56723228, 0.08784588],\n",
       "       [2.13880406, 0.49934887, 0.59899722, 1.38344349, 2.26487345,\n",
       "        1.09142148, 2.4420064 , 1.01019356, 1.55205845, 3.12883795],\n",
       "       [1.08630641, 0.56946887, 0.07224024, 0.41141968, 1.93838475,\n",
       "        0.30817766, 1.41940732, 0.14002678, 0.55029255, 1.98016112]])"
      ]
     },
     "execution_count": 56,
     "metadata": {},
     "output_type": "execute_result"
    }
   ],
   "source": [
    "P0, P1, p = np.random.randn(3, 10, 2)\n",
    "np.array([distance(P0,P1,p_i) for p_i in p])"
   ]
  },
  {
   "cell_type": "markdown",
   "id": "3074c5dc",
   "metadata": {},
   "source": [
    "### 23. Bilinear Interpolation\n",
    "\n",
    "Please implement the bilinear interpolation algorithm using python. Check this for an introduction to bilinear interpolation."
   ]
  },
  {
   "cell_type": "code",
   "execution_count": 57,
   "id": "c3e6361c",
   "metadata": {},
   "outputs": [],
   "source": [
    "def BilinearInterpolation(A, index):\n",
    "    f1, f2 = np.floor(index).astype(int)\n",
    "    d1, d2 = index - np.floor(index)\n",
    "    out = A[f1][f2] * d1 * d2 + A[f1 - 1][f2 - 1] * (1 - d1) * (1 - d2) + \\\n",
    "    A[f1][f2 - 1] * d1 * (1 - d2) + A[f1 - 1][f2] * (1 - d1) * d2\n",
    "    print(f'BilinearInterpolation(A, {index}) == {out}')"
   ]
  },
  {
   "cell_type": "code",
   "execution_count": 58,
   "id": "57907e8d",
   "metadata": {},
   "outputs": [
    {
     "name": "stdout",
     "output_type": "stream",
     "text": [
      "BilinearInterpolation(A, (1, 1)) == 110.0\n",
      "BilinearInterpolation(A, (2.5, 2.5)) == 275.0\n",
      "BilinearInterpolation(A, (1.2, 1.8)) == 138.0\n"
     ]
    }
   ],
   "source": [
    "A = [[110, 120, 130], [210, 220, 230], [310, 320, 330]]\n",
    "BilinearInterpolation(A, (1, 1))\n",
    "BilinearInterpolation(A, (2.5, 2.5))\n",
    "BilinearInterpolation(A, (1.2, 1.8))"
   ]
  },
  {
   "cell_type": "markdown",
   "id": "39efaebf",
   "metadata": {},
   "source": [
    "### 24. Cartesian product\n",
    "\n",
    "Given an arbitrary number of vectors, build the cartesian product (every combinations of every item)."
   ]
  },
  {
   "cell_type": "code",
   "execution_count": 59,
   "id": "55e66aab",
   "metadata": {},
   "outputs": [],
   "source": [
    "def Cartesian(ls):\n",
    "    arrays = [np.asarray(x) for x in ls]\n",
    "    idx = np.indices((len(x) for x in arrays))\n",
    "    idx = idx.reshape(len(arrays), -1).T\n",
    "    for i, x in enumerate(arrays):\n",
    "        idx[:, i] = x[idx[:, i]]\n",
    "    return idx"
   ]
  },
  {
   "cell_type": "code",
   "execution_count": 60,
   "id": "373f7426",
   "metadata": {},
   "outputs": [
    {
     "data": {
      "text/plain": [
       "array([[1, 4, 6],\n",
       "       [1, 4, 7],\n",
       "       [1, 5, 6],\n",
       "       [1, 5, 7],\n",
       "       [2, 4, 6],\n",
       "       [2, 4, 7],\n",
       "       [2, 5, 6],\n",
       "       [2, 5, 7],\n",
       "       [3, 4, 6],\n",
       "       [3, 4, 7],\n",
       "       [3, 5, 6],\n",
       "       [3, 5, 7]])"
      ]
     },
     "execution_count": 60,
     "metadata": {},
     "output_type": "execute_result"
    }
   ],
   "source": [
    "Cartesian([[1, 2, 3], [4, 5], [6, 7]])"
   ]
  },
  {
   "cell_type": "markdown",
   "id": "c3ea3197",
   "metadata": {},
   "source": [
    "### 25. Extracting a subpart of an array\n",
    "\n",
    "Consider an arbitrary array, write a function that extract a subpart with a fixed shape and centered on a given element (pad with a fill value when necessary)."
   ]
  },
  {
   "cell_type": "markdown",
   "id": "42d29a39",
   "metadata": {},
   "source": [
    "- First, get the maximum of the input shape, and pad the array to a bigger one with a fill value. For example, if the input shape is (4, 4) and the original array has a shape of (2, 2), then the array after padding will have a shape of (8, 8).\n",
    "- Next, obtain the position in the new array corresponding to the input position in the original array.\n",
    "- Finally, return the subpart of the new array centered on the new position."
   ]
  },
  {
   "cell_type": "code",
   "execution_count": 61,
   "id": "db0aac5c",
   "metadata": {},
   "outputs": [],
   "source": [
    "def extract_subpart(A, shape, fill, position):\n",
    "    pad = np.max(shape) - 1\n",
    "    A_pad = np.zeros(np.array(A.shape) + pad * 2)\n",
    "    A_pad[:, :] = fill\n",
    "    A_pad[pad:(A_pad.shape[0] - pad), pad:(A_pad.shape[1] - pad)] = A\n",
    "    position += np.array(pad)\n",
    "    top = position[0] - np.array(int(shape[0] / 2))\n",
    "    left = position[1] - np.array(int(shape[1] / 2))\n",
    "    return A_pad[top:(top + shape[0]), left:(left + shape[1])]"
   ]
  },
  {
   "cell_type": "code",
   "execution_count": 62,
   "id": "4f2bdbac",
   "metadata": {},
   "outputs": [
    {
     "data": {
      "text/plain": [
       "array([[0., 0., 0., 0.],\n",
       "       [0., 3., 6., 8.],\n",
       "       [0., 4., 9., 0.],\n",
       "       [0., 6., 1., 4.]])"
      ]
     },
     "execution_count": 62,
     "metadata": {},
     "output_type": "execute_result"
    }
   ],
   "source": [
    "extract_subpart(np.array([[3, 6, 8, 5, 9],\n",
    "                          [4, 9, 0, 0, 9],\n",
    "                          [6, 1, 4, 0, 8],\n",
    "                          [9, 1, 2, 0, 9],\n",
    "                          [4, 1, 7, 5, 0]]), \n",
    "                shape = (4, 4),\n",
    "                fill = 0,\n",
    "                position = (1,1))"
   ]
  },
  {
   "cell_type": "markdown",
   "id": "a30f9234",
   "metadata": {},
   "source": [
    "### 26. Matrix operations\n",
    "\n",
    "Please implement following matrix (just 2D) operations without numpy. First generate the example matrices."
   ]
  },
  {
   "cell_type": "code",
   "execution_count": 63,
   "id": "4769bb7d",
   "metadata": {},
   "outputs": [],
   "source": [
    "matrix_a = [[12, 10], [3, 9]]\n",
    "matrix_b = [[3, 4], [7, 4]]\n",
    "matrix_c = [[11, 12, 13, 14], [21, 22, 23, 24], [31, 32, 33, 34], [41, 42, 43, 44]]\n",
    "matrix_d = [[3, 0, 2], [2, 0, -2], [0, 1, 1]]"
   ]
  },
  {
   "cell_type": "markdown",
   "id": "a93c2dff",
   "metadata": {},
   "source": [
    "- add"
   ]
  },
  {
   "cell_type": "code",
   "execution_count": 64,
   "id": "07dd32e8",
   "metadata": {},
   "outputs": [],
   "source": [
    "def add(A, B):\n",
    "    return [[A[i][j] + B[i][j] for j in range(len(A[0]))] for i in range(len(A))]"
   ]
  },
  {
   "cell_type": "code",
   "execution_count": 65,
   "id": "20bee046",
   "metadata": {},
   "outputs": [
    {
     "data": {
      "text/plain": [
       "[[15, 14], [10, 13]]"
      ]
     },
     "execution_count": 65,
     "metadata": {},
     "output_type": "execute_result"
    }
   ],
   "source": [
    "add(matrix_a, matrix_b)"
   ]
  },
  {
   "cell_type": "markdown",
   "id": "71321d61",
   "metadata": {},
   "source": [
    "- subtract"
   ]
  },
  {
   "cell_type": "code",
   "execution_count": 66,
   "id": "411874b6",
   "metadata": {},
   "outputs": [],
   "source": [
    "def subtract(A, B):\n",
    "    return [[A[i][j] - B[i][j] for j in range(len(A[0]))] for i in range(len(A))]"
   ]
  },
  {
   "cell_type": "code",
   "execution_count": 67,
   "id": "3a20d4e2",
   "metadata": {},
   "outputs": [
    {
     "data": {
      "text/plain": [
       "[[9, 6], [-4, 5]]"
      ]
     },
     "execution_count": 67,
     "metadata": {},
     "output_type": "execute_result"
    }
   ],
   "source": [
    "subtract(matrix_a, matrix_b)"
   ]
  },
  {
   "cell_type": "markdown",
   "id": "6a71442a",
   "metadata": {},
   "source": [
    "- scalar multiply"
   ]
  },
  {
   "cell_type": "code",
   "execution_count": 68,
   "id": "b63b58e7",
   "metadata": {},
   "outputs": [],
   "source": [
    "def scalar_multiply(A, scale_factor):\n",
    "    return [[A[i][j] * scale_factor for j in range(len(A[0]))] for i in range(len(A))]"
   ]
  },
  {
   "cell_type": "code",
   "execution_count": 69,
   "id": "1f61eaff",
   "metadata": {},
   "outputs": [
    {
     "data": {
      "text/plain": [
       "[[9, 12], [21, 12]]"
      ]
     },
     "execution_count": 69,
     "metadata": {},
     "output_type": "execute_result"
    }
   ],
   "source": [
    "scalar_multiply(matrix_b, 3)"
   ]
  },
  {
   "cell_type": "markdown",
   "id": "222444f8",
   "metadata": {},
   "source": [
    "- multiply"
   ]
  },
  {
   "cell_type": "code",
   "execution_count": 70,
   "id": "a01bd846",
   "metadata": {},
   "outputs": [],
   "source": [
    "def multiply(A, B):\n",
    "    return [[sum([A[i][k] * B[k][j] for k in range(len(B))]) for j in range(len(B[0]))] for i in range(len(A))]"
   ]
  },
  {
   "cell_type": "code",
   "execution_count": 71,
   "id": "219f195c",
   "metadata": {},
   "outputs": [
    {
     "data": {
      "text/plain": [
       "[[106, 88], [72, 48]]"
      ]
     },
     "execution_count": 71,
     "metadata": {},
     "output_type": "execute_result"
    }
   ],
   "source": [
    "multiply(matrix_a, matrix_b)"
   ]
  },
  {
   "cell_type": "markdown",
   "id": "0e3b90fa",
   "metadata": {},
   "source": [
    "- identity"
   ]
  },
  {
   "cell_type": "code",
   "execution_count": 72,
   "id": "46271799",
   "metadata": {},
   "outputs": [],
   "source": [
    "def identity(n):\n",
    "    return [[0 if i != j else 1 for j in range(n)] for i in range(n)]"
   ]
  },
  {
   "cell_type": "code",
   "execution_count": 73,
   "id": "29a161a3",
   "metadata": {},
   "outputs": [
    {
     "data": {
      "text/plain": [
       "[[1, 0, 0], [0, 1, 0], [0, 0, 1]]"
      ]
     },
     "execution_count": 73,
     "metadata": {},
     "output_type": "execute_result"
    }
   ],
   "source": [
    "identity(3)"
   ]
  },
  {
   "cell_type": "markdown",
   "id": "944415a2",
   "metadata": {},
   "source": [
    "- transpose"
   ]
  },
  {
   "cell_type": "code",
   "execution_count": 74,
   "id": "cf40e6e4",
   "metadata": {},
   "outputs": [],
   "source": [
    "def transpose(A):\n",
    "    return [[A[j][i] for j in range(len(A[0]))] for i in range(len(A))]"
   ]
  },
  {
   "cell_type": "code",
   "execution_count": 75,
   "id": "6aa05ad6",
   "metadata": {},
   "outputs": [
    {
     "data": {
      "text/plain": [
       "[[11, 21, 31, 41], [12, 22, 32, 42], [13, 23, 33, 43], [14, 24, 34, 44]]"
      ]
     },
     "execution_count": 75,
     "metadata": {},
     "output_type": "execute_result"
    }
   ],
   "source": [
    "transpose(matrix_c)"
   ]
  },
  {
   "cell_type": "markdown",
   "id": "ca818aac",
   "metadata": {},
   "source": [
    "- inverse: $A^{-1}=A ^ * / |A|$"
   ]
  },
  {
   "cell_type": "code",
   "execution_count": 76,
   "id": "084590e8",
   "metadata": {},
   "outputs": [],
   "source": [
    "def inverse(A):\n",
    "    \n",
    "    def det(mat):\n",
    "        if len(mat) == 1:\n",
    "            return mat[0][0]\n",
    "        else:\n",
    "            total = 0\n",
    "            for c in range(len(mat)):\n",
    "                cofactor = [[mat[i][j] for j in range(len(mat)) if j != c] for i in range(1, len(mat))]\n",
    "                total += (-1) ** c * mat[0][c] * det(cofactor)\n",
    "            return total\n",
    "\n",
    "    result = [[[0] for j in range(len(A))] for i in range(len(A))]\n",
    "    for i in range(len(A)):\n",
    "        for j in range(len(A)):\n",
    "            cofactor = [[A[p][q] for q in range(len(A)) if q != j] for p in range(len(A)) if p != i]\n",
    "            result[j][i] = (-1) ** (i + j) * det(cofactor) / det(A)\n",
    "    \n",
    "    return result"
   ]
  },
  {
   "cell_type": "code",
   "execution_count": 77,
   "id": "34f70b0e",
   "metadata": {},
   "outputs": [
    {
     "data": {
      "text/plain": [
       "[[0.2, 0.2, 0.0], [-0.2, 0.3, 1.0], [0.2, -0.3, 0.0]]"
      ]
     },
     "execution_count": 77,
     "metadata": {},
     "output_type": "execute_result"
    }
   ],
   "source": [
    "inverse(matrix_d)"
   ]
  },
  {
   "cell_type": "markdown",
   "id": "2a2589e3",
   "metadata": {},
   "source": [
    "### 27. Greatest common divisor\n",
    "\n",
    "Use the Rolling division method to find the greatest common divisor (gcd) of two integers."
   ]
  },
  {
   "cell_type": "code",
   "execution_count": 78,
   "id": "06d6cf03",
   "metadata": {},
   "outputs": [],
   "source": [
    "def GCD(a, b):\n",
    "    if b == 0:\n",
    "        return a\n",
    "    else:\n",
    "        return GCD(b, a % b)"
   ]
  },
  {
   "cell_type": "code",
   "execution_count": 79,
   "id": "4b673de5",
   "metadata": {},
   "outputs": [
    {
     "name": "stdout",
     "output_type": "stream",
     "text": [
      "GCD(3, 5) = 1\n",
      "GCD(6, 3) = 3\n",
      "GCD(-2, 6) = 2\n",
      "GCD(0, 3) = 3\n"
     ]
    }
   ],
   "source": [
    "print(f'GCD(3, 5) = {GCD(3, 5)}')\n",
    "print(f'GCD(6, 3) = {GCD(6, 3)}')\n",
    "print(f'GCD(-2, 6) = {GCD(-2, 6)}')\n",
    "print(f'GCD(0, 3) = {GCD(0, 3)}')"
   ]
  },
  {
   "cell_type": "markdown",
   "id": "a5104829",
   "metadata": {},
   "source": [
    "### 28. Find all consecutive positive number sequences whose sum is N.\n",
    "\n",
    "e.g. 18+19...+22 = 9+10+...+16 = 100\n",
    "\n",
    "Find all consecutive positive number sequences whose sum is 1000, and report your results."
   ]
  },
  {
   "cell_type": "markdown",
   "id": "d5f7d174",
   "metadata": {},
   "source": [
    "$$\n",
    "\\begin{aligned}\n",
    "&\\frac {[start + (start + length - 1)] * length} {2} = N\\\\\n",
    "&(2start + length - 1)*length = 2N \\\\\n",
    "\\Rightarrow\\ &2start = \\frac{2N}{length} - {(length - 1)},\\ length < \\sqrt{2N}\n",
    "\\end{aligned}\n",
    "$$"
   ]
  },
  {
   "cell_type": "code",
   "execution_count": 80,
   "id": "03e975a5",
   "metadata": {},
   "outputs": [],
   "source": [
    "def find_consecutive(N):\n",
    "    print(f'All consecutive positive number sequences whose sum is {N}:')\n",
    "    length = 0\n",
    "    while length < int(np.sqrt(2 * N)):\n",
    "        length += 1\n",
    "        if (2 * N / length + 1 - length) % 2 == 0:\n",
    "            start = int((2 * N / length + 1 - length) / 2)\n",
    "            print(list(range(start, start + length)))"
   ]
  },
  {
   "cell_type": "code",
   "execution_count": 81,
   "id": "e2e3838e",
   "metadata": {},
   "outputs": [
    {
     "name": "stdout",
     "output_type": "stream",
     "text": [
      "All consecutive positive number sequences whose sum is 100:\n",
      "[100]\n",
      "[18, 19, 20, 21, 22]\n",
      "[9, 10, 11, 12, 13, 14, 15, 16]\n",
      "All consecutive positive number sequences whose sum is 1000:\n",
      "[1000]\n",
      "[198, 199, 200, 201, 202]\n",
      "[55, 56, 57, 58, 59, 60, 61, 62, 63, 64, 65, 66, 67, 68, 69, 70]\n",
      "[28, 29, 30, 31, 32, 33, 34, 35, 36, 37, 38, 39, 40, 41, 42, 43, 44, 45, 46, 47, 48, 49, 50, 51, 52]\n"
     ]
    }
   ],
   "source": [
    "find_consecutive(100)\n",
    "find_consecutive(1000)"
   ]
  },
  {
   "cell_type": "markdown",
   "id": "e77cdc66",
   "metadata": {},
   "source": [
    "### 29. Password checking\n",
    "\n",
    "A website requires the users to input username and password to register. Write a program to check the validity of password input by users. Following are the criteria for checking the password:\n",
    "\n",
    "- At least 1 letter between \\[a-z\\]\n",
    "- At least 1 number between \\[0-9\\]\n",
    "- At least 1 letter between \\[A-Z\\]\n",
    "- At least 1 character from \\[$#@\\]\n",
    "- Minimum length of transaction password: 6\n",
    "- Maximum length of transaction password: 12\n",
    "\n",
    "Your program should accept a sequence of comma separated passwords and will check them according to the above criteria. Passwords that match the criteria are to be printed, each separated by a comma."
   ]
  },
  {
   "cell_type": "code",
   "execution_count": 82,
   "id": "726fefea",
   "metadata": {},
   "outputs": [],
   "source": [
    "def check_password(passwords):\n",
    "    password_list = passwords.split(',')\n",
    "    valid_list = []\n",
    "    for password in password_list:\n",
    "        if 6 <= len(password) <= 12:\n",
    "            letter = re.findall(r'[a-z]', password)\n",
    "            number = re.findall(r'[0-9]', password)\n",
    "            letter_upper = re.findall(r'[A-Z]', password)\n",
    "            special = re.findall(r'[\\$#@]', password)\n",
    "            if letter and number and letter_upper and special:\n",
    "                valid_list.append(password)\n",
    "    return ','.join(valid_list)"
   ]
  },
  {
   "cell_type": "code",
   "execution_count": 83,
   "id": "4402c668",
   "metadata": {},
   "outputs": [
    {
     "data": {
      "text/plain": [
       "'ABd1234@1'"
      ]
     },
     "execution_count": 83,
     "metadata": {},
     "output_type": "execute_result"
    }
   ],
   "source": [
    "passwords = 'ABd1234@1,a F1#,2w3E*,2We3345'\n",
    "check_password(passwords)"
   ]
  }
 ],
 "metadata": {
  "kernelspec": {
   "display_name": "Python 3 (ipykernel)",
   "language": "python",
   "name": "python3"
  },
  "language_info": {
   "codemirror_mode": {
    "name": "ipython",
    "version": 3
   },
   "file_extension": ".py",
   "mimetype": "text/x-python",
   "name": "python",
   "nbconvert_exporter": "python",
   "pygments_lexer": "ipython3",
   "version": "3.10.5"
  },
  "toc": {
   "base_numbering": 1,
   "nav_menu": {},
   "number_sections": true,
   "sideBar": true,
   "skip_h1_title": false,
   "title_cell": "Table of Contents",
   "title_sidebar": "Contents",
   "toc_cell": false,
   "toc_position": {},
   "toc_section_display": true,
   "toc_window_display": false
  }
 },
 "nbformat": 4,
 "nbformat_minor": 5
}
